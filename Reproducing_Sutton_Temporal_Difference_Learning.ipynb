{
 "cells": [
  {
   "cell_type": "markdown",
   "metadata": {},
   "source": [
    "![alt text](http://kldavenport.com/wp-content/uploads/2018/02/mdp-chain.png \"Title\")\n",
    "Figure 2 from the book. A generator of bounded random walks. This Markov process generated the data sequences in the example. All walks begin in state D. From states B, C, D, E, and F, the walk has a 50% chance of moving either to the right or to the left. If either edge state, A or G, is entered, then the walk terminates.\n",
    "\n",
    "#### Setting up our environment"
   ]
  },
  {
   "cell_type": "code",
   "execution_count": 1,
   "metadata": {
    "collapsed": true
   },
   "outputs": [],
   "source": [
    "import math, sys, json, random \n",
    "import numpy as np\n",
    "import pandas as pd\n",
    "import matplotlib \n",
    "import matplotlib.style\n",
    "import matplotlib.pyplot as plt\n",
    "# import seaborn as sns\n",
    "from sklearn.externals import joblib # Still better than pickle in 2018?\n",
    "# To protect from IPython kernel switching mistakes\n",
    "from __future__ import division\n",
    "%matplotlib inline"
   ]
  },
  {
   "cell_type": "markdown",
   "metadata": {},
   "source": [
    "#### Utility Functions\n",
    "We implement the TD Lambda algorithm below as `tdlEstimate` the image below is from chapter 6 of the Sutton textbook.\n",
    "![alt text](http://kldavenport.com/wp-content/uploads/2018/02/td0-algo.png \"Title\")\n"
   ]
  },
  {
   "cell_type": "code",
   "execution_count": 2,
   "metadata": {
    "collapsed": true
   },
   "outputs": [],
   "source": [
    "# TD Lambda\n",
    "def tdlEstimate(alpha, _lambda, state_sequence, values):\n",
    "    \"\"\"\n",
    "    alphas: array of arbitrary values (e.g. 0.005, 0.01, 0.015)\n",
    "    _lambda: chosen from an arbitrary array (e.g. 0.1, 1)\n",
    "    state sequence: an array chosen from an arbitrary set of sequence simulations such as [3, 4, 5, 6] or \\\n",
    "    [3, 4, 3, 2, 3, 4, 3, 4, 5, 6] per the MDP figure 2 above.\n",
    "    returns: \"\"\"\n",
    "    \n",
    "    # Per figure 2, we have 7 possible states, with two of them being end states (A,G)\n",
    "    \n",
    "    eligibility = np.zeros(7)\n",
    "    updates     = np.zeros(7)\n",
    "\n",
    "    for t in range(0, len(state_sequence) - 1):\n",
    "        current_state = state_sequence[t]\n",
    "        next_state = state_sequence[t+1]\n",
    "\n",
    "        eligibility[current_state] += 1.0\n",
    "\n",
    "        td = alpha * (values[next_state] - values[current_state])\n",
    "\n",
    "        updates += td * eligibility\n",
    "        eligibility *= _lambda\n",
    "\n",
    "    return updates\n",
    "\n",
    "# Simulator to generate random walk sequences in our MDP defined in fig 2 above\n",
    "states = ['A', 'B', 'C', 'D', 'E', 'F', 'G']\n",
    "\n",
    "def simulate():\n",
    "    \"\"\"returns: a sequence of states picked from a uniform random sample such as \n",
    "    [3, 2, 1, 0] or [3, 4, 3, 4, 3, 4, 5, 6]\n",
    "    \"\"\"\n",
    "    states = [3] # Start in center at \"D\"\n",
    "    while states[-1] not in [0, 6]:\n",
    "        states.append(states[-1] +  (1 if random.choice([True, False]) else -1)) # go left or right randomly\n",
    "\n",
    "    return states"
   ]
  },
  {
   "cell_type": "code",
   "execution_count": 3,
   "metadata": {
    "collapsed": true
   },
   "outputs": [],
   "source": [
    "# Setup data for plots\n",
    "\n",
    "random.seed(101)\n",
    "# pg.20 gives true probabilities for states B, C, D, E, F\n",
    "# truth = np.arange(1, 6) / 6.0\n",
    "truth = [1 / 6, 1 / 3, 1 / 2, 2 / 3, 5 / 6]\n",
    "\n",
    "dtype = np.float\n",
    "\n",
    "num_train_sets = 100\n",
    "num_sequences   = 10 # or episodes\n",
    "\n",
    "training_sets = [[simulate() for i in range(num_sequences)] for i in range(num_train_sets)]"
   ]
  },
  {
   "cell_type": "markdown",
   "metadata": {},
   "source": [
    "### Figure 3 Page 20"
   ]
  },
  {
   "cell_type": "code",
   "execution_count": 4,
   "metadata": {},
   "outputs": [],
   "source": [
    "# Figure 3\n",
    "alphas  = np.array([0.005, 0.01, 0.015], dtype=dtype)\n",
    "lambdas = np.array([0.0, 0.1, 0.3, 0.5, 0.7, 0.9, 1.0], dtype=dtype) # given in figure 3 caption\n",
    "\n",
    "results = []\n",
    "\n",
    "for _lambda in lambdas:\n",
    "    for alpha in alphas:\n",
    "        rmses = []\n",
    "        for training_set in training_sets:\n",
    "            # values initialized to zero and updates via tdlEstimate\n",
    "            values = np.zeros(7, dtype=dtype)\n",
    "            iterations = 0\n",
    "            \n",
    "            while True:\n",
    "                iterations += 1\n",
    "                before  = np.copy(values)\n",
    "                updates = np.zeros(7, dtype=dtype)\n",
    "                # The reward for reaching state \"G\" (element 7)\n",
    "                values[6] = 1.0\n",
    "\n",
    "                for sequence in training_set: \n",
    "                    updates += tdlEstimate(alpha, _lambda, sequence, values)\n",
    "\n",
    "                values += updates\n",
    "                diff = np.sum(np.absolute(before - values))\n",
    "\n",
    "                if diff < .000001:\n",
    "                    break\n",
    "\n",
    "            estimate = np.array(values[1:-1], dtype=dtype)\n",
    "            error = (truth - estimate)\n",
    "            rms   = np.sqrt(np.average(np.power(error, 2)))\n",
    "            rmses.append(rms)\n",
    "\n",
    "        result = [_lambda, alpha, np.mean(rmses), np.std(rmses)]\n",
    "        results.append(result)\n",
    "\n",
    "# outputs\n",
    "# joblib.dump(results, 'results.pkl') "
   ]
  },
  {
   "cell_type": "code",
   "execution_count": 10,
   "metadata": {},
   "outputs": [
    {
     "data": {
      "text/html": [
       "<div>\n",
       "<style>\n",
       "    .dataframe thead tr:only-child th {\n",
       "        text-align: right;\n",
       "    }\n",
       "\n",
       "    .dataframe thead th {\n",
       "        text-align: left;\n",
       "    }\n",
       "\n",
       "    .dataframe tbody tr th {\n",
       "        vertical-align: top;\n",
       "    }\n",
       "</style>\n",
       "<table border=\"1\" class=\"dataframe\">\n",
       "  <thead>\n",
       "    <tr style=\"text-align: right;\">\n",
       "      <th></th>\n",
       "      <th>lambda</th>\n",
       "      <th>alpha</th>\n",
       "      <th>rms</th>\n",
       "      <th>rmsstd</th>\n",
       "    </tr>\n",
       "  </thead>\n",
       "  <tbody>\n",
       "    <tr>\n",
       "      <th>0</th>\n",
       "      <td>0.0</td>\n",
       "      <td>0.00</td>\n",
       "      <td>0.235702</td>\n",
       "      <td>0.000000</td>\n",
       "    </tr>\n",
       "    <tr>\n",
       "      <th>1</th>\n",
       "      <td>0.0</td>\n",
       "      <td>0.05</td>\n",
       "      <td>0.175010</td>\n",
       "      <td>0.002556</td>\n",
       "    </tr>\n",
       "    <tr>\n",
       "      <th>2</th>\n",
       "      <td>0.0</td>\n",
       "      <td>0.10</td>\n",
       "      <td>0.131192</td>\n",
       "      <td>0.009537</td>\n",
       "    </tr>\n",
       "    <tr>\n",
       "      <th>3</th>\n",
       "      <td>0.0</td>\n",
       "      <td>0.15</td>\n",
       "      <td>0.103448</td>\n",
       "      <td>0.020459</td>\n",
       "    </tr>\n",
       "    <tr>\n",
       "      <th>4</th>\n",
       "      <td>0.0</td>\n",
       "      <td>0.20</td>\n",
       "      <td>0.091540</td>\n",
       "      <td>0.033838</td>\n",
       "    </tr>\n",
       "  </tbody>\n",
       "</table>\n",
       "</div>"
      ],
      "text/plain": [
       "   lambda  alpha       rms    rmsstd\n",
       "0     0.0   0.00  0.235702  0.000000\n",
       "1     0.0   0.05  0.175010  0.002556\n",
       "2     0.0   0.10  0.131192  0.009537\n",
       "3     0.0   0.15  0.103448  0.020459\n",
       "4     0.0   0.20  0.091540  0.033838"
      ]
     },
     "execution_count": 10,
     "metadata": {},
     "output_type": "execute_result"
    }
   ],
   "source": [
    "# results = joblib.load('results.pkl') \n",
    "data = pd.DataFrame(results)\n",
    "data.columns = [\"lambda\", \"alpha\", \"rms\", \"rmsstd\"]\n",
    "data.head()"
   ]
  },
  {
   "cell_type": "code",
   "execution_count": 6,
   "metadata": {
    "collapsed": true
   },
   "outputs": [],
   "source": [
    "data = data[data.groupby(['lambda'])['rms'].transform(min) == data['rms']].set_index(keys=['lambda'])\n",
    "data.drop('alpha', 1, inplace=True,)\n",
    "data.drop('rmsstd', 1,inplace=True,)"
   ]
  },
  {
   "attachments": {},
   "cell_type": "markdown",
   "metadata": {},
   "source": [
    "I repeatedly calculated the TD equation on a given set until the RMSE  between the weights (new values) and the ideal probabilities was less than my arbitrary threshold.  \n",
    "The values and trend are very similar to the original but more tweaking to my environment assumptions might have improved the similarity. Given more time and intellect I’d like to do a random search of a space of hyper-parameters and see what most closely approximates the original. RMS error increases with non-linearity in relation to lambda. The initial curtailing isn’t the same as Sutton with lambda 0 performing the best out right.\n",
    "\n",
    "If we choose to imitate figure 3 literally we get the below. I would prefer grid lines though, which is just a matter of using default seaborn aesthetics."
   ]
  },
  {
   "cell_type": "code",
   "execution_count": 7,
   "metadata": {},
   "outputs": [
    {
     "data": {
      "image/png": "[encoded data removed]",
      "text/plain": [
       "<matplotlib.figure.Figure at 0x116d60e80>"
      ]
     },
     "metadata": {},
     "output_type": "display_data"
    }
   ],
   "source": [
    "# sns.set_style(\"white\")\n",
    "plt.figure(num=None, figsize=(10, 6), dpi=72)\n",
    "plt.margins(.05)\n",
    "plt.xlabel(r\"$\\lambda$\")\n",
    "plt.ylabel(\"RMS\")\n",
    "plt.title(\"Figure 3\")\n",
    "plt.xticks([i * .1 for i in range(0, 10)])\n",
    "plt.yticks([i * .01 for i in range(10, 19)])\n",
    "plt.text(.79, .17, \"Widrow-Hoff\", ha=\"center\", va=\"center\", rotation=0,size=15)\n",
    "plt.text(-.22, .174, \"ERROR\\nUSING\\nBEST α\",size=15)\n",
    "plt.plot(data,marker='o');"
   ]
  },
  {
   "cell_type": "markdown",
   "metadata": {},
   "source": [
    "### Figure 5 Page 21"
   ]
  },
  {
   "cell_type": "code",
   "execution_count": 12,
   "metadata": {},
   "outputs": [
    {
     "name": "stdout",
     "output_type": "stream",
     "text": [
      "CPU times: user 3 µs, sys: 1 µs, total: 4 µs\n",
      "Wall time: 5.96 µs\n"
     ]
    }
   ],
   "source": [
    "%time \n",
    "alphas  = [0.05 * i for i in range(0,16)]\n",
    "lambdas = [0.05 * i for i in range(0, 21)]\n",
    "\n",
    "results = []\n",
    "\n",
    "for _lambda in lambdas:\n",
    "    for alpha in alphas:\n",
    "        rms_vals = []\n",
    "        for training_set in training_sets:\n",
    "\n",
    "            values = np.array([0.5 for i in range(7)])\n",
    "\n",
    "            for sequence in training_set:\n",
    "                values[0] = 0.0\n",
    "                values[6] = 1.0\n",
    "                values += tdlEstimate(alpha, _lambda, sequence, values)\n",
    "\n",
    "            estimate = np.array(values[1:-1])\n",
    "            error = (truth - estimate)\n",
    "            rms   = np.sqrt(np.average(np.power(error, 2)))\n",
    "\n",
    "            rms_vals.append(rms)\n",
    "\n",
    "        result = [_lambda, alpha, np.mean(rms_vals), np.std(rms_vals)]\n",
    "        results.append(result)"
   ]
  },
  {
   "attachments": {},
   "cell_type": "markdown",
   "metadata": {},
   "source": [
    "Here we reiterate that larger lambda values perform better via smaller learning rates. I believe this is due to the larger lambda values emphasizing weight on larger steps and the final output. "
   ]
  },
  {
   "cell_type": "code",
   "execution_count": 11,
   "metadata": {},
   "outputs": [
    {
     "data": {
      "text/plain": [
       "<matplotlib.text.Text at 0x11b26b7f0>"
      ]
     },
     "execution_count": 11,
     "metadata": {},
     "output_type": "execute_result"
    },
    {
     "data": {
      "image/png": "[encoded data removed]",
      "text/plain": [
       "<matplotlib.figure.Figure at 0x11b161518>"
      ]
     },
     "metadata": {},
     "output_type": "display_data"
    }
   ],
   "source": [
    "data = pd.DataFrame(results)\n",
    "\n",
    "data.columns = [\"lambda\", \"alpha\", \"rms\", \"rmsstd\"]\n",
    "\n",
    "data = data[data.groupby(['lambda'])['rms'].transform(min) == \\\n",
    "            data['rms']].set_index(keys=['lambda'])\n",
    "\n",
    "data = data.drop('alpha', 1)\n",
    "data = data.drop('rmsstd', 1)\n",
    "\n",
    "plt.figure(num=None, figsize=(10, 6), dpi=80)\n",
    "plt.plot(data, marker='o') \n",
    "plt.margins(.10)\n",
    "plt.xlabel(r\"$\\lambda$\")\n",
    "plt.ylabel(\"RMS\")\n",
    "plt.title(\"Figure 5 \")\n",
    "plt.text(.7, .185, \"Widrow-Hoff\", ha=\"center\", va=\"center\", rotation=0,size=15)\n",
    "plt.text(-.25,.204, \"ERROR\\nUSING\\nBEST α\",size=12)"
   ]
  },
  {
   "cell_type": "code",
   "execution_count": 14,
   "metadata": {
    "collapsed": true
   },
   "outputs": [],
   "source": [
    "from IPython.display import HTML"
   ]
  },
  {
   "cell_type": "markdown",
   "metadata": {},
   "source": [
    "By the way here is a short simple video from Peter Norvig that provides good intuition on TD learning."
   ]
  },
  {
   "cell_type": "code",
   "execution_count": 16,
   "metadata": {},
   "outputs": [
    {
     "data": {
      "text/html": [
       "<iframe width=\"560\" height=\"315\" src=\"https://www.youtube.com/embed/DZzffdHNqtQ\" frameborder=\"0\" allowfullscreen></iframe>"
      ],
      "text/plain": [
       "<IPython.core.display.HTML object>"
      ]
     },
     "execution_count": 16,
     "metadata": {},
     "output_type": "execute_result"
    }
   ],
   "source": [
    "HTML('<iframe width=\"560\" height=\"315\" src=\"https://www.youtube.com/embed/DZzffdHNqtQ\" frameborder=\"0\" allowfullscreen></iframe>')"
   ]
  }
 ],
 "metadata": {
  "kernelspec": {
   "display_name": "Python [Root]",
   "language": "python",
   "name": "Python [Root]"
  },
  "language_info": {
   "codemirror_mode": {
    "name": "ipython",
    "version": 3
   },
   "file_extension": ".py",
   "mimetype": "text/x-python",
   "name": "python",
   "nbconvert_exporter": "python",
   "pygments_lexer": "ipython3",
   "version": "3.5.3"
  }
 },
 "nbformat": 4,
 "nbformat_minor": 2
}
